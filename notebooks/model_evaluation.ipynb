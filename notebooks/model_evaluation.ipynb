{
 "cells": [
  {
   "cell_type": "code",
   "execution_count": null,
   "id": "16695cb3",
   "metadata": {
    "vscode": {
     "languageId": "plaintext"
    }
   },
   "outputs": [],
   "source": [
    "from transformers import pipeline\n",
    "\n",
    "classifier = pipeline(\"zero-shot-classification\", model=\"facebook/bart-large-mnli\")\n",
    "sample_text = \"There is a lot of trash on the corner of 5th and Main\"\n",
    "labels = [\"Pothole\", \"Graffiti\", \"Trash\", \"Broken Light\"]\n",
    "\n",
    "result = classifier(sample_text, candidate_labels=labels)\n",
    "print(\"Top prediction:\", result[\"labels\"][0], \"Confidence:\", result[\"scores\"][0])\n"
   ]
  }
 ],
 "metadata": {
  "language_info": {
   "name": "python"
  }
 },
 "nbformat": 4,
 "nbformat_minor": 5
}
