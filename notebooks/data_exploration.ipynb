{
 "cells": [
  {
   "cell_type": "code",
   "execution_count": null,
   "id": "fc3cb789",
   "metadata": {
    "vscode": {
     "languageId": "plaintext"
    }
   },
   "outputs": [],
   "source": [
    "import pandas as pd\n",
    "import matplotlib.pyplot as plt\n",
    "\n",
    "df = pd.read_csv(\"../data/training/issues.csv\")  # If training set exists\n",
    "\n",
    "# Visualize issue type frequency\n",
    "df['classification'].value_counts().plot(kind='bar', title='Issue Type Distribution')\n",
    "plt.xlabel(\"Issue Type\")\n",
    "plt.ylabel(\"Count\")\n",
    "plt.tight_layout()\n",
    "plt.show()\n"
   ]
  }
 ],
 "metadata": {
  "language_info": {
   "name": "python"
  }
 },
 "nbformat": 4,
 "nbformat_minor": 5
}
